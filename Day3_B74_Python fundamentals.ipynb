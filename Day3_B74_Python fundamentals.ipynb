{
 "cells": [
  {
   "cell_type": "code",
   "execution_count": 3,
   "id": "ca871066",
   "metadata": {},
   "outputs": [
    {
     "name": "stdout",
     "output_type": "stream",
     "text": [
      "Ridhimegha\n"
     ]
    }
   ],
   "source": [
    "first_name= 'ridhi'\n",
    "last_name= 'megha'\n",
    "full_name= f\"{first_name}{last_name}\"\n",
    "print(full_name.title())"
   ]
  },
  {
   "cell_type": "markdown",
   "id": "f7f2cfe3",
   "metadata": {},
   "source": []
  },
  {
   "cell_type": "code",
   "execution_count": 6,
   "id": "ab869b83",
   "metadata": {},
   "outputs": [
    {
     "name": "stdout",
     "output_type": "stream",
     "text": [
      "keep up good work,Ridhimegha\n"
     ]
    }
   ],
   "source": [
    "message= f\"keep up good work,{full_name.title()}\"\n",
    "print(message)"
   ]
  },
  {
   "cell_type": "code",
   "execution_count": 7,
   "id": "21dc571b",
   "metadata": {},
   "outputs": [
    {
     "name": "stdout",
     "output_type": "stream",
     "text": [
      "favourite programming language:pythonjavac++swiftpascalcobal\n"
     ]
    }
   ],
   "source": [
    "print(\"favourite programming language:pythonjavac++swiftpascalcobal\")"
   ]
  },
  {
   "cell_type": "code",
   "execution_count": 10,
   "id": "52126786",
   "metadata": {},
   "outputs": [
    {
     "name": "stdout",
     "output_type": "stream",
     "text": [
      "favourite programming language:\n",
      "python\n",
      "java\n",
      "c++\n",
      "swift\n",
      "pascal\n",
      "cobal\n"
     ]
    }
   ],
   "source": [
    "print(\"favourite programming language:\\npython\\njava\\nc++\\nswift\\npascal\\ncobal\")"
   ]
  },
  {
   "cell_type": "code",
   "execution_count": 11,
   "id": "2e9fa7db",
   "metadata": {},
   "outputs": [
    {
     "name": "stdout",
     "output_type": "stream",
     "text": [
      "favourite programming language:\n",
      "\tpython\n",
      "\tjava\n",
      "\tc++\n",
      "\tswift\n",
      "\tpascal\n",
      "\tcobal\n"
     ]
    }
   ],
   "source": [
    "print(\"favourite programming language:\\n\\tpython\\n\\tjava\\n\\tc++\\n\\tswift\\n\\tpascal\\n\\tcobal\")"
   ]
  },
  {
   "cell_type": "code",
   "execution_count": 13,
   "id": "d900b489",
   "metadata": {},
   "outputs": [
    {
     "name": "stdout",
     "output_type": "stream",
     "text": [
      "python\n"
     ]
    }
   ],
   "source": [
    "#removing whitespaces from strings\n",
    "name= 'python'\n",
    "print(name)"
   ]
  },
  {
   "cell_type": "code",
   "execution_count": 14,
   "id": "3aa01672",
   "metadata": {},
   "outputs": [
    {
     "name": "stdout",
     "output_type": "stream",
     "text": [
      "    python\n"
     ]
    }
   ],
   "source": [
    "name2= '    python'\n",
    "print(name2)"
   ]
  },
  {
   "cell_type": "code",
   "execution_count": 15,
   "id": "336755d0",
   "metadata": {},
   "outputs": [
    {
     "name": "stdout",
     "output_type": "stream",
     "text": [
      "python    \n"
     ]
    }
   ],
   "source": [
    "name3='python    '\n",
    "print(name3)"
   ]
  },
  {
   "cell_type": "code",
   "execution_count": 16,
   "id": "8c0ca505",
   "metadata": {},
   "outputs": [
    {
     "data": {
      "text/plain": [
       "'python'"
      ]
     },
     "execution_count": 16,
     "metadata": {},
     "output_type": "execute_result"
    }
   ],
   "source": [
    "name2.lstrip()"
   ]
  },
  {
   "cell_type": "code",
   "execution_count": 17,
   "id": "448ea6d9",
   "metadata": {},
   "outputs": [
    {
     "data": {
      "text/plain": [
       "'python'"
      ]
     },
     "execution_count": 17,
     "metadata": {},
     "output_type": "execute_result"
    }
   ],
   "source": [
    "name3.rstrip()"
   ]
  },
  {
   "cell_type": "code",
   "execution_count": 20,
   "id": "96be1498",
   "metadata": {},
   "outputs": [
    {
     "name": "stdout",
     "output_type": "stream",
     "text": [
      "     python     \n"
     ]
    }
   ],
   "source": [
    "name4= '     python     '\n",
    "print(name4)"
   ]
  },
  {
   "cell_type": "code",
   "execution_count": 19,
   "id": "1496309f",
   "metadata": {},
   "outputs": [
    {
     "data": {
      "text/plain": [
       "'python'"
      ]
     },
     "execution_count": 19,
     "metadata": {},
     "output_type": "execute_result"
    }
   ],
   "source": [
    "name4.strip()"
   ]
  },
  {
   "cell_type": "code",
   "execution_count": null,
   "id": "b7c7032a",
   "metadata": {},
   "outputs": [],
   "source": []
  }
 ],
 "metadata": {
  "kernelspec": {
   "display_name": "Python 3 (ipykernel)",
   "language": "python",
   "name": "python3"
  },
  "language_info": {
   "codemirror_mode": {
    "name": "ipython",
    "version": 3
   },
   "file_extension": ".py",
   "mimetype": "text/x-python",
   "name": "python",
   "nbconvert_exporter": "python",
   "pygments_lexer": "ipython3",
   "version": "3.9.13"
  }
 },
 "nbformat": 4,
 "nbformat_minor": 5
}
